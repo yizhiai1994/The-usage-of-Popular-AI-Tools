{
  "nbformat": 4,
  "nbformat_minor": 0,
  "metadata": {
    "colab": {
      "name": "NLP.ipynb",
      "provenance": [],
      "authorship_tag": "ABX9TyPR9xHn1L4EZwrM8dO0fmTa",
      "include_colab_link": true
    },
    "kernelspec": {
      "name": "python3",
      "display_name": "Python 3"
    }
  },
  "cells": [
    {
      "cell_type": "markdown",
      "metadata": {
        "id": "view-in-github",
        "colab_type": "text"
      },
      "source": [
        "<a href=\"https://colab.research.google.com/github/yizhiai1994/The-usage-of-Popular-AI-Tools/blob/main/NLP.ipynb\" target=\"_parent\"><img src=\"https://colab.research.google.com/assets/colab-badge.svg\" alt=\"Open In Colab\"/></a>"
      ]
    },
    {
      "cell_type": "markdown",
      "metadata": {
        "id": "YdvceS8cHIR0"
      },
      "source": [
        "#StanfordCoreNLP"
      ]
    },
    {
      "cell_type": "markdown",
      "metadata": {
        "id": "po3y42s6VIJj"
      },
      "source": [
        "#Stanza"
      ]
    },
    {
      "cell_type": "markdown",
      "metadata": {
        "id": "upczGylzVJkN"
      },
      "source": [
        "#ILP"
      ]
    },
    {
      "cell_type": "markdown",
      "metadata": {
        "id": "JpynmYyCVLow"
      },
      "source": [
        "#THU"
      ]
    },
    {
      "cell_type": "markdown",
      "metadata": {
        "id": "cicII9-jVNN5"
      },
      "source": [
        ""
      ]
    }
  ]
}